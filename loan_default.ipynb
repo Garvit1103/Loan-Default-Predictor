{
 "cells": [
  {
   "cell_type": "markdown",
   "id": "2b3410a5-d556-4769-b3c9-21920fe3cf62",
   "metadata": {},
   "source": [
    "# Defining each column\n",
    "| Column                     | Description                                                                 |\n",
    "|----------------------------|-----------------------------------------------------------------------------|\n",
    "| ID                         | Client loan application ID                                                  |\n",
    "| year                       | Year of loan application                                                    |\n",
    "| loan_limit                 | Indicates if the loan is conforming (cf) or non-conforming (ncf)           |\n",
    "| Gender                     | Gender of the applicant (male, female, joint, sex not available)           |\n",
    "| approv_in_adv              | Whether the loan was approved in advance (pre, nopre)                      |\n",
    "| loan_type                  | Type of loan (type1, type2, type3)                                         |\n",
    "| loan_purpose               | Purpose of the loan (p1, p2, p3, p4)                                       |\n",
    "| Credit_Worthiness         | Credit worthiness category (l1, l2)                                        |\n",
    "| open_credit                | Whether the applicant has open credit accounts (opc, nopc)                 |\n",
    "| business_or_commercial     | If the loan is for business/commercial use (ob/c) or personal (nob/c)      |\n",
    "| loan_amount                | Amount of money borrowed                                                   |\n",
    "| rate_of_interest           | Interest rate charged on the loan                                          |\n",
    "| Interest_rate_spread       | Difference between loan interest and benchmark rate                        |\n",
    "| Upfront_charges            | Initial charges for securing the loan                                      |\n",
    "| term                       | Duration of the loan in months                                             |\n",
    "| Neg_ammortization          | Whether loan allows negative amortization (neg_amm, not_neg)              |\n",
    "| interest_only              | If the loan is interest-only (int_only, not_int)                           |\n",
    "| lump_sum_payment           | Whether a lump sum is required at end (lpsm, not_lpsm)                     |\n",
    "| property_value             | Value of the property financed                                             |\n",
    "| construction_type          | Type of construction (sb - site built, mh - manufactured home)            |\n",
    "| occupancy_type             | Occupancy type (pr, sr, ir)                                                |\n",
    "| Secured_by                 | Type of collateral securing the loan (home, land)                          |\n",
    "| total_units                | Number of units in the property (1U, 2U, 3U, 4U)                            |\n",
    "| income                     | Applicant’s annual income                                                  |\n",
    "| credit_type                | Applicant’s credit source (CIB, CRIF, EXP, EQUI)                           |\n",
    "| Credit_Score               | Applicant’s credit score                                                   |\n",
    "| co-applicant_credit_type   | Co-applicant’s credit type (CIB, EXP, etc.)                                |\n",
    "| age                        | Applicant’s age                                                            |\n",
    "| submission_of_application  | How the application was submitted (to_inst, not_inst)                      |\n",
    "| LTV                        | Loan-to-Value ratio                                                        |\n",
    "| Region                     | Geographic region (North, south, central, North-East)                      |\n",
    "| Security_Type              | Type of loan security (direct, indirect)                                   |\n",
    "| Status                     | Target variable: 1 = defaulted, 0 = not defaulted                          |\n",
    "| dtir1                      | Debt-to-Income ratio                                                       |\n"
   ]
  },
  {
   "cell_type": "code",
   "execution_count": 21,
   "id": "d7844e7d-08a0-4767-830e-b8cc2038d34f",
   "metadata": {},
   "outputs": [],
   "source": [
    "import pandas as pd\n",
    "import numpy as np\n",
    "import matplotlib.pyplot as plt\n",
    "import seaborn as sns\n",
    "\n",
    "from sklearn.preprocessing import StandardScaler\n",
    "from sklearn.ensemble import RandomForestClassifier, VotingClassifier, RandomForestRegressor\n",
    "from sklearn.linear_model import LogisticRegression, LinearRegression\n",
    "from sklearn.tree import DecisionTreeClassifier\n",
    "from sklearn.model_selection import train_test_split\n",
    "from sklearn.preprocessing import LabelEncoder, StandardScaler\n",
    "from sklearn.metrics import accuracy_score, precision_score, recall_score, f1_score, confusion_matrix, classification_report, ConfusionMatrixDisplay\n",
    "from sklearn.feature_selection import VarianceThreshold\n",
    "from sklearn.experimental import enable_iterative_imputer\n",
    "from sklearn.impute import KNNImputer, IterativeImputer\n",
    "from sklearn.neighbors import KNeighborsClassifier\n",
    "from sklearn.svm import SVC\n",
    "from imblearn.over_sampling import SMOTE\n",
    "\n",
    "import warnings\n",
    "warnings.filterwarnings('ignore')"
   ]
  },
  {
   "cell_type": "code",
   "execution_count": 22,
   "id": "f53d0eca-a4fd-4efd-9420-40a7b7d63512",
   "metadata": {},
   "outputs": [],
   "source": [
    "raw_data = pd.read_csv('data/Loan_Default.csv')\n",
    "data1 = raw_data.copy(deep=True)"
   ]
  },
  {
   "cell_type": "markdown",
   "id": "b51edcef-cc5e-403f-af53-c85ecaf636ff",
   "metadata": {},
   "source": [
    "# Cleaning"
   ]
  },
  {
   "cell_type": "code",
   "execution_count": 23,
   "id": "e9c0db0b-dfad-4fd4-9f83-996b854db298",
   "metadata": {},
   "outputs": [],
   "source": [
    "low_NaN_values = (data1.isna().sum() / data1.shape[0]) < 0.01\n",
    "cols_with_low_nans = low_NaN_values[low_NaN_values].index\n",
    "\n",
    "data1 = data1.dropna(subset=cols_with_low_nans)"
   ]
  },
  {
   "cell_type": "code",
   "execution_count": 24,
   "id": "b067ea08-3ecc-44d8-8f0b-43667554b5c5",
   "metadata": {},
   "outputs": [],
   "source": [
    "# imputing loan_limit based on loan_amount \n",
    "\n",
    "data1.loan_limit = data1.loan_limit.fillna(data1['loan_amount'].apply(lambda x : 'ncf' if x > 45000 else 'cf'))\n",
    "\n",
    "# imputing loan_purpose based on loan_amount \n",
    "def assign_purpose(loan_amount):\n",
    "    if loan_amount < 20000:\n",
    "        return 'p2'\n",
    "    elif loan_amount > 20000 and loan_amount < 29000:\n",
    "        return 'p3'\n",
    "    elif loan_amount > 29000 and loan_amount < 34000:\n",
    "        return 'p1'\n",
    "\n",
    "    else:\n",
    "        return 'p4'\n",
    "\n",
    "data1.loan_purpose = data1.loan_purpose.fillna(data1['loan_amount'].apply(assign_purpose))"
   ]
  },
  {
   "cell_type": "code",
   "execution_count": 25,
   "id": "2f5f9303-0134-4538-aea3-dd8474da5623",
   "metadata": {},
   "outputs": [],
   "source": [
    "# scaling numerical values using KNNImputer and IterativeImputer\n",
    "\n",
    "categorical_cols = data1.select_dtypes(include=['object']).columns\n",
    "numerical_cols = data1.select_dtypes(include=['float64', 'int64'])\n",
    "scaler = StandardScaler()\n",
    "data1[numerical_cols.columns] = scaler.fit_transform(data1[numerical_cols.columns])\n",
    "\n",
    "# corr = numerical_cols.corr()\n",
    "# sns.heatmap(corr, annot=True, fmt='.1f', cmap='coolwarm', square=True, linewidths=0.1)\n",
    "# plt.show()\n",
    "\n",
    "# strong correlations\n",
    "# loan_amount, property_value 0.7\n",
    "# loan_amount, income 0.5\n",
    "# roi, roi_spread 0.6\n",
    "\n",
    "#imputing income using iterative imputer\n",
    "subset1 = data1[['income', 'loan_amount']]\n",
    "imputer_it_1 = IterativeImputer(estimator=LinearRegression(), max_iter=10, random_state=42)\n",
    "imputed1 = imputer_it_1.fit_transform(subset1)\n",
    "data1['income'] = imputed1[:, 0] \n",
    "\n",
    "#imputing property_value using iterative imputer\n",
    "subset2 = data1[['property_value', 'loan_amount']]\n",
    "imputer_it_2 = IterativeImputer(estimator=LinearRegression(), max_iter=10, random_state=42)\n",
    "imputed2 = imputer_it_2.fit_transform(subset2)\n",
    "data1['property_value'] = imputed2[:, 0] \n",
    "\n",
    "#imputing other numerical values using knnimputer\n",
    "# 'loan_amount', 'rate_of_interest', 'Interest_rate_spread',\n",
    "       # 'Upfront_charges', 'term', 'property_value', 'income', 'Credit_Score',\n",
    "       # 'LTV', 'dtir1'\n",
    "\n",
    "\n",
    "KNNI_features = ['rate_of_interest', 'Interest_rate_spread', 'Upfront_charges', 'LTV', 'dtir1']\n",
    "knn_imputer = KNNImputer(n_neighbors=5)\n",
    "\n",
    "subset = data1[KNNI_features].copy()\n",
    "batch_size = 20000\n",
    "\n",
    "imputed_batches = []\n",
    "for i in range(0, len(subset), batch_size):\n",
    "    batch = subset.iloc[i:i+batch_size]\n",
    "    imputed = knn_imputer.fit_transform(batch)\n",
    "    imputed_batches.append(pd.DataFrame(imputed, columns=KNNI_features))\n",
    "\n",
    "data1[KNNI_features] = pd.concat(imputed_batches).reset_index(drop=True)\n"
   ]
  },
  {
   "cell_type": "code",
   "execution_count": 26,
   "id": "9edd7284-2153-4ff9-af6b-16cf9633169c",
   "metadata": {},
   "outputs": [],
   "source": [
    "#drop all the remaining NaNs\n",
    "data1.dropna(inplace=True)"
   ]
  },
  {
   "cell_type": "markdown",
   "id": "cce4ac69-1334-49f8-8dc0-d137e12b6f36",
   "metadata": {},
   "source": [
    "# Handling Categorical Features"
   ]
  },
  {
   "cell_type": "code",
   "execution_count": 27,
   "id": "0abb2a09-3e89-4d7c-b758-657e8dac3a04",
   "metadata": {},
   "outputs": [],
   "source": [
    "one_hot_cols = ['loan_type', 'approv_in_adv', 'loan_purpose', 'business_or_commercial', 'Neg_ammortization', 'interest_only', 'lump_sum_payment', 'occupancy_type', 'submission_of_application', 'Region']\n",
    "frequency_encode = ['Gender', 'Credit_Worthiness', 'credit_type', 'co-applicant_credit_type', 'age', 'total_units']\n",
    "features_to_drop = ['construction_type', 'Secured_by', 'Security_Type', 'open_credit', 'loan_limit']\n",
    "\n",
    "# one hot encode\n",
    "data1 = pd.get_dummies(data1, columns=one_hot_cols, drop_first=True)\n",
    "\n",
    "# frequency encode\n",
    "for col in frequency_encode:\n",
    "    freq = data1[col].value_counts(normalize=True)\n",
    "    data1[col] = data1[col].map(freq)\n",
    "\n",
    "data1.drop(columns=features_to_drop, inplace=True)"
   ]
  },
  {
   "cell_type": "code",
   "execution_count": 28,
   "id": "1200c983-0dec-47b2-a475-7a7d353b619d",
   "metadata": {},
   "outputs": [
    {
     "data": {
      "text/plain": [
       "0"
      ]
     },
     "execution_count": 28,
     "metadata": {},
     "output_type": "execute_result"
    }
   ],
   "source": [
    "data1.isna().sum().sum()"
   ]
  },
  {
   "cell_type": "code",
   "execution_count": 29,
   "id": "67c4f650-7e83-48b4-b41b-8cfc7c5724ed",
   "metadata": {},
   "outputs": [],
   "source": [
    "y = data1['Status'].astype(int)\n",
    "\n",
    "X = data1[['Gender', 'Credit_Worthiness', 'loan_amount',\n",
    "       'rate_of_interest', 'Interest_rate_spread', 'Upfront_charges', 'term',\n",
    "       'property_value', 'total_units', 'income', 'credit_type',\n",
    "       'Credit_Score', 'co-applicant_credit_type', 'age', 'LTV',\n",
    "       'dtir1', 'loan_type_type2', 'loan_type_type3', 'approv_in_adv_pre',\n",
    "       'loan_purpose_p2', 'loan_purpose_p3', 'loan_purpose_p4',\n",
    "       'business_or_commercial_nob/c', 'Neg_ammortization_not_neg',\n",
    "       'interest_only_not_int', 'lump_sum_payment_not_lpsm',\n",
    "       'occupancy_type_pr', 'occupancy_type_sr',\n",
    "       'submission_of_application_to_inst', 'Region_North-East',\n",
    "       'Region_central', 'Region_south']]\n",
    "\n",
    "X_train, X_test, y_train, y_test = train_test_split(X, y, test_size=0.20, random_state=1)\n",
    "\n",
    "rf = RandomForestClassifier(random_state=42, n_jobs=-1)\n",
    "knn = KNeighborsClassifier(n_jobs=-1)\n",
    "\n",
    "ensemble = VotingClassifier(estimators=[\n",
    "    ('rf', rf), \n",
    "    ('knn', knn)\n",
    "], voting='soft')\n",
    "\n",
    "ensemble.fit(X_train, y_train)\n",
    "\n",
    "y_pred = ensemble.predict(X_test)"
   ]
  },
  {
   "cell_type": "code",
   "execution_count": 31,
   "id": "59755fa2-e530-4cd3-9ec0-50b7db38805d",
   "metadata": {},
   "outputs": [
    {
     "data": {
      "image/png": "[encoded data removed]",
      "text/plain": [
       "<Figure size 640x480 with 2 Axes>"
      ]
     },
     "metadata": {},
     "output_type": "display_data"
    }
   ],
   "source": [
    "accuracy_score(y_test, y_pred)\n",
    "\n",
    "cm = confusion_matrix(y_test, y_pred)\n",
    "disp = ConfusionMatrixDisplay(confusion_matrix=cm)\n",
    "disp.plot(cmap='plasma')\n",
    "plt.title('Confusion Matrix')\n",
    "plt.show()"
   ]
  },
  {
   "cell_type": "code",
   "execution_count": 32,
   "id": "86342ef1-e3cc-4473-8e48-a616bfb19770",
   "metadata": {},
   "outputs": [
    {
     "name": "stdout",
     "output_type": "stream",
     "text": [
      "              precision    recall  f1-score   support\n",
      "\n",
      "           0       0.84      0.98      0.90     22064\n",
      "           1       0.89      0.40      0.55      7114\n",
      "\n",
      "    accuracy                           0.84     29178\n",
      "   macro avg       0.86      0.69      0.73     29178\n",
      "weighted avg       0.85      0.84      0.82     29178\n",
      "\n"
     ]
    }
   ],
   "source": [
    "print(classification_report(y_test, y_pred))"
   ]
  },
  {
   "cell_type": "markdown",
   "id": "222de39d-18ca-4826-8750-e9bae830de9a",
   "metadata": {},
   "source": [
    "# Applying SMOTE for data unbalance"
   ]
  },
  {
   "cell_type": "code",
   "execution_count": 14,
   "id": "58aebec4-458f-4a1f-943b-dc681d5910c9",
   "metadata": {},
   "outputs": [
    {
     "data": {
      "text/plain": [
       "<Axes: xlabel='Status', ylabel='count'>"
      ]
     },
     "execution_count": 14,
     "metadata": {},
     "output_type": "execute_result"
    },
    {
     "data": {
      "image/png": "[encoded data removed]",
      "text/plain": [
       "<Figure size 640x480 with 1 Axes>"
      ]
     },
     "metadata": {},
     "output_type": "display_data"
    }
   ],
   "source": [
    "count_class = y_train.value_counts()\n",
    "sns.barplot(count_class)"
   ]
  },
  {
   "cell_type": "code",
   "execution_count": 38,
   "id": "3f016649-2443-4148-9143-8ac229e11a92",
   "metadata": {},
   "outputs": [],
   "source": [
    "smote=SMOTE(sampling_strategy='minority') \n",
    "X_train_smote, y_train_smote = smote.fit_resample(X_train, y_train)\n",
    "\n",
    "ensemble.fit(X_train_smote, y_train_smote)\n",
    "\n",
    "y_pred_smote = ensemble.predict(X_test)"
   ]
  },
  {
   "cell_type": "code",
   "execution_count": 39,
   "id": "4327d1a7-4268-4843-9815-a3abf84aa1d8",
   "metadata": {},
   "outputs": [
    {
     "name": "stdout",
     "output_type": "stream",
     "text": [
      "              precision    recall  f1-score   support\n",
      "\n",
      "           0       0.86      0.88      0.87     22064\n",
      "           1       0.59      0.54      0.57      7114\n",
      "\n",
      "    accuracy                           0.80     29178\n",
      "   macro avg       0.72      0.71      0.72     29178\n",
      "weighted avg       0.79      0.80      0.79     29178\n",
      "\n"
     ]
    }
   ],
   "source": [
    "print(classification_report(y_test, y_pred_smote))"
   ]
  },
  {
   "cell_type": "code",
   "execution_count": null,
   "id": "deb97d40-de24-4cea-9460-2c45503fdac3",
   "metadata": {},
   "outputs": [],
   "source": []
  }
 ],
 "metadata": {
  "kernelspec": {
   "display_name": "Python 3 (ipykernel)",
   "language": "python",
   "name": "python3"
  },
  "language_info": {
   "codemirror_mode": {
    "name": "ipython",
    "version": 3
   },
   "file_extension": ".py",
   "mimetype": "text/x-python",
   "name": "python",
   "nbconvert_exporter": "python",
   "pygments_lexer": "ipython3",
   "version": "3.12.0"
  }
 },
 "nbformat": 4,
 "nbformat_minor": 5
}
